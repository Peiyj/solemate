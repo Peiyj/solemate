{
 "cells": [
  {
   "cell_type": "code",
   "execution_count": 1,
   "metadata": {},
   "outputs": [],
   "source": [
    "# use following link for tutorial\n",
    "# https://machinelearningmastery.com/naive-bayes-classifier-scratch-python/\n",
    "# \n",
    "# note: class == diabetes / no diabetes, attribute == different numerical variables\n",
    "#     --> need to calculate avg / std of each attribute for each class\n"
   ]
  },
  {
   "cell_type": "code",
   "execution_count": 91,
   "metadata": {},
   "outputs": [
    {
     "name": "stdout",
     "output_type": "stream",
     "text": [
      "Loaded data file https://raw.githubusercontent.com/jbrownlee/Datasets/master/pima-indians-diabetes.data.csv with 767 rows\n"
     ]
    }
   ],
   "source": [
    "# 1. Handle Data\n",
    "\n",
    "#load Pima indians dataset\n",
    "import pandas as pd \n",
    "\n",
    "filename = \"https://raw.githubusercontent.com/jbrownlee/Datasets/master/pima-indians-diabetes.data.csv\"\n",
    "dataset = pd.read_csv(filename);\n",
    "dataset = dataset.values.tolist()\n",
    "\n",
    "print(f'Loaded data file {filename} with {len(dataset)} rows');\n"
   ]
  },
  {
   "cell_type": "code",
   "execution_count": 92,
   "metadata": {},
   "outputs": [
    {
     "name": "stdout",
     "output_type": "stream",
     "text": [
      "Split 5 into train with [[3], [4], [1]] and test with [[2], [5]]\n"
     ]
    }
   ],
   "source": [
    "import random\n",
    "\n",
    "\"\"\"\n",
    "Function name: splitData\n",
    "    Purpose: split data into test and train sets randomly\n",
    "    inputs: dataset, splitRatio (number between 0 and 1, ratio of train data)\n",
    "    output: nested list of split data (train and test)\n",
    "\"\"\"\n",
    "def splitData(dataset, splitRatio):\n",
    "    trainSize = int(len(dataset)*splitRatio)\n",
    "    trainSet = []\n",
    "    copy = list(dataset)\n",
    "    while len(trainSet) < trainSize:\n",
    "        index = random.randrange(len(copy))\n",
    "        trainSet.append(copy.pop(index))\n",
    "    return [trainSet, copy]\n",
    "\n",
    "# test function\n",
    "dataset = [[1], [2], [3], [4], [5]]\n",
    "splitRatio = 0.67\n",
    "train, test = splitData(dataset, splitRatio)\n",
    "print(f'Split {len(dataset)} into train with {train} and test with {test}')\n",
    "\n"
   ]
  },
  {
   "cell_type": "code",
   "execution_count": 93,
   "metadata": {},
   "outputs": [
    {
     "name": "stdout",
     "output_type": "stream",
     "text": [
      "Separated instances: {1: [[1, 20, 1], [3, 22, 1]], 0: [[2, 21, 0]]}\n"
     ]
    }
   ],
   "source": [
    "# 2. Summarize Data\n",
    "\n",
    "# Separate data by class\n",
    "\"\"\" \n",
    "Function name: separateByClass\n",
    "    input: dataset given as a nested list\n",
    "    output: dictionary where 1: train set, 0: test set\n",
    "\"\"\"\n",
    "def separateByClass(dataset):\n",
    "    separated = {} # of type list\n",
    "    for i in range(len(dataset)):\n",
    "        vector = dataset[i]\n",
    "        \n",
    "        # assume that last column contains class labels\n",
    "        # create new dictionary label if you haven't encountered the class yet\n",
    "        if (vector[-1] not in separated): \n",
    "            separated[vector[-1]] = []\n",
    "        separated[vector[-1]].append(vector)\n",
    "    return separated\n",
    "\n",
    "# test function\n",
    "dataset = [[1,20,1], [2,21,0], [3,22,1]]\n",
    "separated = separateByClass(dataset)\n",
    "print(f'Separated instances: {separated}')"
   ]
  },
  {
   "cell_type": "code",
   "execution_count": 94,
   "metadata": {},
   "outputs": [
    {
     "name": "stdout",
     "output_type": "stream",
     "text": [
      "Summary of [1, 2, 3, 4, 5]: mean=3.0, stdev=1.5811388300841898\n"
     ]
    }
   ],
   "source": [
    "# Calculate mean (use for gaussian distribution when calculating probabilities)\n",
    "import math\n",
    "\n",
    "\"\"\"\n",
    "Function name: mean\n",
    "    input: list of numbers\n",
    "    output: average values of inputs\n",
    "\"\"\"\n",
    "def mean(numbers):\n",
    "    return sum(numbers)/float(len(numbers))\n",
    "\n",
    "\"\"\"\n",
    "Function name: stdev\n",
    "    input: list of numbers\n",
    "    output: standard deviation of inputs\n",
    "\"\"\"\n",
    "def stdev(numbers):\n",
    "    avg = mean(numbers)\n",
    "    variance = sum([pow(x-avg,2) for x in numbers])/float(len(numbers)-1)\n",
    "    return math.sqrt(variance)\n",
    "\n",
    "# test functions\n",
    "numbers = [1,2,3,4,5]\n",
    "print(f'Summary of {numbers}: mean={mean(numbers)}, stdev={stdev(numbers)}')\n",
    "    "
   ]
  },
  {
   "cell_type": "code",
   "execution_count": 95,
   "metadata": {},
   "outputs": [
    {
     "name": "stdout",
     "output_type": "stream",
     "text": [
      "Attribute summaries: [(2.0, 1.0), (21.0, 1.0)]\n"
     ]
    }
   ],
   "source": [
    "# Summarize dataset\n",
    "\n",
    "\"\"\"\n",
    "Function name: summarize\n",
    "    input: dataset (nested list)\n",
    "    output: mean, standard deviation for each element in nested list (each class)\n",
    "\"\"\"\n",
    "def summarize(dataset):\n",
    "    # zip function groups values for each attribute into their own lists\n",
    "    summaries = [(mean(attribute), stdev(attribute)) for attribute in zip(*dataset)]\n",
    "    del summaries[-1] # don't need mean / stdev of class labels\n",
    "    return summaries\n",
    "\n",
    "# test function\n",
    "dataset = [[1,20,0], [2,21,1], [3,22,0]]\n",
    "summary = summarize(dataset)\n",
    "print(f'Attribute summaries: {summary}')\n"
   ]
  },
  {
   "cell_type": "code",
   "execution_count": 96,
   "metadata": {},
   "outputs": [
    {
     "name": "stdout",
     "output_type": "stream",
     "text": [
      "Summary by class value: {1: [(2.0, 1.4142135623730951), (21.0, 1.4142135623730951)], 0: [(3.0, 1.4142135623730951), (21.5, 0.7071067811865476)]}\n"
     ]
    }
   ],
   "source": [
    "# Summarize attributes by class\n",
    "\n",
    "\"\"\"\n",
    "Function name: summarizeByClass \n",
    "    input: dataset (nested list)\n",
    "    output: dictionary w/ stats for each attribute separated by class labels\n",
    "\"\"\"\n",
    "def summarizeByClass(dataset):\n",
    "    separated = separateByClass(dataset)\n",
    "    summaries = {} # empty dictionary\n",
    "    for classValue, instances in separated.items():\n",
    "        summaries[classValue] = summarize(instances)\n",
    "    return summaries\n",
    "\n",
    "# test function\n",
    "dataset = [[1,20,1], [2,21,0], [3,22,1], [4,22,0]]\n",
    "summary = summarizeByClass(dataset)\n",
    "print(f'Summary by class value: {summary}')\n"
   ]
  },
  {
   "cell_type": "code",
   "execution_count": 43,
   "metadata": {},
   "outputs": [
    {
     "name": "stdout",
     "output_type": "stream",
     "text": [
      "Probability of belonging to this class: 0.06248965759370005\n"
     ]
    }
   ],
   "source": [
    "# 3. Make Prediction\n",
    "\n",
    "# Calculate gaussian probability density functions\n",
    "import math\n",
    "\n",
    "\"\"\"\n",
    "Function name: calculateProbability\n",
    "    input: testing value, mean of input distribution, stdev of input distribution\n",
    "    output: probability that testing value falls in given distribution\n",
    "\"\"\"\n",
    "def calculateProbability(x,mean,stdev):\n",
    "    exponent = math.exp(-(math.pow(x-mean,2)/(2*math.pow(stdev,2))))\n",
    "    return (1/(math.sqrt(2*math.pi)*stdev)) * exponent\n",
    "\n",
    "# test function\n",
    "x = 71.5 # test point\n",
    "mean = 73\n",
    "stdev = 6.2\n",
    "probability = calculateProbability(x,mean,stdev)\n",
    "print(f'Probability of belonging to this class: {probability}')\n"
   ]
  },
  {
   "cell_type": "code",
   "execution_count": 53,
   "metadata": {},
   "outputs": [
    {
     "name": "stdout",
     "output_type": "stream",
     "text": [
      "Probabilities for each class: {0: 0.7820853879509118, 1: 6.298736258150442e-05}\n"
     ]
    }
   ],
   "source": [
    "# Calculate class probabilities \n",
    "\n",
    "\"\"\"\n",
    "Function name: calculateClassProbabilities\n",
    "    input: stats for each class in dictionary \n",
    "    output: probability of data point belonging to multiple classes\n",
    "\"\"\"\n",
    "def calculateClassProbabilities(summaries, inputVector):\n",
    "    probabilities = {} # empty dictionary\n",
    "    for classValue, classSummaries in summaries.items():\n",
    "        probabilities[classValue] = 1 # initialize\n",
    "        for i in range(len(classSummaries)):\n",
    "            mean, stdev = classSummaries[i]\n",
    "            x = inputVector[i]\n",
    "            \n",
    "            # multiply individual prob to get prob of entire data instance\n",
    "            probabilities[classValue] *= calculateProbability(x,mean,stdev)\n",
    "    \n",
    "    return probabilities\n",
    "\n",
    "# test function\n",
    "summaries = {0:[(1,0.5)], 1:[(20, 5.0)]}\n",
    "inputVector = [1.1,'?']\n",
    "probabilities = calculateClassProbabilities(summaries, inputVector)\n",
    "print(f'Probabilities for each class: {probabilities}')\n"
   ]
  },
  {
   "cell_type": "code",
   "execution_count": 54,
   "metadata": {},
   "outputs": [
    {
     "name": "stdout",
     "output_type": "stream",
     "text": [
      "Prediction: A\n"
     ]
    }
   ],
   "source": [
    "# Make a prediction\n",
    "\n",
    "\"\"\"\n",
    "Function name: predict\n",
    "    input: stats for each class in dictionary, input value \n",
    "    output: predicted class based on max probability of any individual class \n",
    "\"\"\"\n",
    "def predict(summaries, inputVector):\n",
    "    probabilities = calculateClassProbabilities(summaries, inputVector)\n",
    "    bestLabel, bestProb = None, -1 # initialize vars\n",
    "    for classValue, probability in probabilities.items():\n",
    "        if bestLabel is None or probability > bestProb:\n",
    "            bestProb = probability\n",
    "            bestLabel = classValue\n",
    "    return bestLabel\n",
    "\n",
    "# test function\n",
    "summaries = {'A': [(1,0.5)], 'B':[(20,5.0)]}\n",
    "inputVector = [1.1,'?']\n",
    "result = predict(summaries, inputVector)\n",
    "print(f'Prediction: {result}')\n"
   ]
  },
  {
   "cell_type": "code",
   "execution_count": 55,
   "metadata": {},
   "outputs": [
    {
     "name": "stdout",
     "output_type": "stream",
     "text": [
      "Predictions: ['A', 'B']\n"
     ]
    }
   ],
   "source": [
    "# 4. Make Predictions\n",
    "\n",
    "\"\"\"\n",
    "Function name: getPrediction \n",
    "    input: stats for each class in dictionary, list of input values (nested list)\n",
    "    output: class prediction list\n",
    "\"\"\"\n",
    "def getPredictions(summaries, testSet):\n",
    "    predictions = [] # empty list\n",
    "    for i in range(len(testSet)):\n",
    "        result = predict(summaries, testSet[i])\n",
    "        predictions.append(result)\n",
    "    return predictions\n",
    "\n",
    "# test function\n",
    "summaries = {'A': [(1,0.5)], 'B':[(20,5.0)]}\n",
    "testSet = [[1.1,'?'],[19.1,'?']]\n",
    "predictions = getPredictions(summaries, testSet)\n",
    "print(f'Predictions: {predictions}')\n"
   ]
  },
  {
   "cell_type": "code",
   "execution_count": 56,
   "metadata": {},
   "outputs": [
    {
     "name": "stdout",
     "output_type": "stream",
     "text": [
      "Accuracy: 66.66666666666666\n"
     ]
    }
   ],
   "source": [
    "# 5. Get Accuracy\n",
    "\n",
    "\"\"\"\n",
    "Function name: getAccuracy\n",
    "    input: nested list of test set, list of predictions\n",
    "    output: accuracy between known test labels and predictions\n",
    "\"\"\"\n",
    "def getAccuracy(testSet, predictions):\n",
    "    correct = 0 # initialize\n",
    "    for x in range(len(testSet)):\n",
    "        if testSet[x][-1] == predictions[x]:\n",
    "            correct += 1\n",
    "    return (correct/float(len(testSet))) * 100.0\n",
    "\n",
    "# test function\n",
    "testSet = [[1,1,1,'a'], [2,2,2,'a'], [3,3,3,'b']]\n",
    "predictions = ['a', 'a', 'a']\n",
    "accuracy = getAccuracy(testSet, predictions)\n",
    "print(f'Accuracy: {accuracy}')\n"
   ]
  },
  {
   "cell_type": "code",
   "execution_count": 106,
   "metadata": {},
   "outputs": [
    {
     "name": "stdout",
     "output_type": "stream",
     "text": [
      "Split 767 into train=513 and test=254 rows\n",
      "Accuracy: 75.98425196850394%\n"
     ]
    }
   ],
   "source": [
    "# actual main function: test on pima indians dataset\n",
    "filename = 'https://raw.githubusercontent.com/jbrownlee/Datasets/master/pima-indians-diabetes.data.csv'\n",
    "splitRatio = 0.67\n",
    "dataset = pd.read_csv(filename);\n",
    "dataset = dataset.values.tolist()\n",
    "\n",
    "trainingSet, testSet = splitData(dataset, splitRatio)\n",
    "print(f'Split {len(dataset)} into train={len(trainingSet)} and test={len(testSet)} rows')\n",
    "\n",
    "# prepare model\n",
    "summaries = summarizeByClass(trainingSet)\n",
    "\n",
    "# test model\n",
    "predictions = getPredictions(summaries, testSet)\n",
    "accuracy = getAccuracy(testSet, predictions)\n",
    "print(f'Accuracy: {accuracy}%')\n",
    "\n"
   ]
  },
  {
   "cell_type": "code",
   "execution_count": null,
   "metadata": {},
   "outputs": [],
   "source": []
  }
 ],
 "metadata": {
  "kernelspec": {
   "display_name": "Python 3",
   "language": "python",
   "name": "python3"
  },
  "language_info": {
   "codemirror_mode": {
    "name": "ipython",
    "version": 3
   },
   "file_extension": ".py",
   "mimetype": "text/x-python",
   "name": "python",
   "nbconvert_exporter": "python",
   "pygments_lexer": "ipython3",
   "version": "3.7.3"
  }
 },
 "nbformat": 4,
 "nbformat_minor": 2
}
