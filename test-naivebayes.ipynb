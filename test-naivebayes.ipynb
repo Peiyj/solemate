{
 "cells": [
  {
   "cell_type": "code",
   "execution_count": 1,
   "metadata": {},
   "outputs": [],
   "source": [
    "# use following link for tutorial\n",
    "# https://machinelearningmastery.com/naive-bayes-classifier-scratch-python/\n"
   ]
  },
  {
   "cell_type": "code",
   "execution_count": 18,
   "metadata": {},
   "outputs": [
    {
     "name": "stdout",
     "output_type": "stream",
     "text": [
      "Loaded data file https://raw.githubusercontent.com/jbrownlee/Datasets/master/pima-indians-diabetes.data.csv with 767 rows\n",
      "767\n"
     ]
    }
   ],
   "source": [
    "# 1. Handle Data\n",
    "\n",
    "#load Pima indians dataset\n",
    "import pandas as pd\n",
    "\n",
    "filename = \"https://raw.githubusercontent.com/jbrownlee/Datasets/master/pima-indians-diabetes.data.csv\"\n",
    "dataset = pd.read_csv(filename);\n",
    "print(f'Loaded data file {filename} with {len(dataset)} rows');\n"
   ]
  },
  {
   "cell_type": "code",
   "execution_count": 20,
   "metadata": {},
   "outputs": [
    {
     "name": "stdout",
     "output_type": "stream",
     "text": [
      "Split 5 into train with [[4], [1], [2]] and test with [[3], [5]]\n"
     ]
    }
   ],
   "source": [
    "import random\n",
    "def splitData(dataset, splitRatio):\n",
    "    trainSize = int(len(dataset)*splitRatio)\n",
    "    trainSet = []\n",
    "    copy = list(dataset)\n",
    "    while len(trainSet) < trainSize:\n",
    "        index = random.randrange(len(copy))\n",
    "        trainSet.append(copy.pop(index))\n",
    "    return [trainSet, copy]\n",
    "\n",
    "dataset = [[1], [2], [3], [4], [5]]\n",
    "splitRatio = 0.67\n",
    "train, test = splitData(dataset, splitRatio)\n",
    "print(f'Split {len(dataset)} into train with {train} and test with {test}')\n"
   ]
  },
  {
   "cell_type": "code",
   "execution_count": null,
   "metadata": {},
   "outputs": [],
   "source": []
  }
 ],
 "metadata": {
  "kernelspec": {
   "display_name": "Python 3",
   "language": "python",
   "name": "python3"
  },
  "language_info": {
   "codemirror_mode": {
    "name": "ipython",
    "version": 3
   },
   "file_extension": ".py",
   "mimetype": "text/x-python",
   "name": "python",
   "nbconvert_exporter": "python",
   "pygments_lexer": "ipython3",
   "version": "3.7.3"
  }
 },
 "nbformat": 4,
 "nbformat_minor": 2
}
